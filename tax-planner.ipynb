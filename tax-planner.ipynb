{
 "cells": [
  {
   "cell_type": "code",
   "execution_count": 1,
   "id": "a6844e67",
   "metadata": {
    "_cell_guid": "b1076dfc-b9ad-4769-8c92-a6c4dae69d19",
    "_uuid": "8f2839f25d086af736a60e9eeb907d3b93b6e0e5",
    "execution": {
     "iopub.execute_input": "2025-06-27T19:28:33.117304Z",
     "iopub.status.busy": "2025-06-27T19:28:33.116654Z",
     "iopub.status.idle": "2025-06-27T19:28:57.447429Z",
     "shell.execute_reply": "2025-06-27T19:28:57.446267Z"
    },
    "papermill": {
     "duration": 24.336634,
     "end_time": "2025-06-27T19:28:57.448885",
     "exception": false,
     "start_time": "2025-06-27T19:28:33.112251",
     "status": "completed"
    },
    "tags": []
   },
   "outputs": [
    {
     "name": "stderr",
     "output_type": "stream",
     "text": [
      "2025-06-27 19:28:41.027381: E external/local_xla/xla/stream_executor/cuda/cuda_fft.cc:477] Unable to register cuFFT factory: Attempting to register factory for plugin cuFFT when one has already been registered\n",
      "WARNING: All log messages before absl::InitializeLog() is called are written to STDERR\n",
      "E0000 00:00:1751052521.394946      19 cuda_dnn.cc:8310] Unable to register cuDNN factory: Attempting to register factory for plugin cuDNN when one has already been registered\n",
      "E0000 00:00:1751052521.503735      19 cuda_blas.cc:1418] Unable to register cuBLAS factory: Attempting to register factory for plugin cuBLAS when one has already been registered\n"
     ]
    },
    {
     "name": "stdout",
     "output_type": "stream",
     "text": [
      "/kaggle/input/llama-3/transformers/8b-hf/1/model.safetensors.index.json\n",
      "/kaggle/input/llama-3/transformers/8b-hf/1/model-00003-of-00004.safetensors\n",
      "/kaggle/input/llama-3/transformers/8b-hf/1/config.json\n",
      "/kaggle/input/llama-3/transformers/8b-hf/1/LICENSE\n",
      "/kaggle/input/llama-3/transformers/8b-hf/1/model-00001-of-00004.safetensors\n",
      "/kaggle/input/llama-3/transformers/8b-hf/1/USE_POLICY.md\n",
      "/kaggle/input/llama-3/transformers/8b-hf/1/tokenizer.json\n",
      "/kaggle/input/llama-3/transformers/8b-hf/1/tokenizer_config.json\n",
      "/kaggle/input/llama-3/transformers/8b-hf/1/example_text_completion.py\n",
      "/kaggle/input/llama-3/transformers/8b-hf/1/requirements.txt\n",
      "/kaggle/input/llama-3/transformers/8b-hf/1/model-00004-of-00004.safetensors\n",
      "/kaggle/input/llama-3/transformers/8b-hf/1/eval_details.md\n",
      "/kaggle/input/llama-3/transformers/8b-hf/1/special_tokens_map.json\n",
      "/kaggle/input/llama-3/transformers/8b-hf/1/model-00002-of-00004.safetensors\n",
      "/kaggle/input/llama-3/transformers/8b-hf/1/example_chat_completion.py\n",
      "/kaggle/input/llama-3/transformers/8b-hf/1/setup.py\n",
      "/kaggle/input/llama-3/transformers/8b-hf/1/generation_config.json\n"
     ]
    }
   ],
   "source": [
    "# This Python 3 environment comes with many helpful analytics libraries installed\n",
    "# It is defined by the kaggle/python Docker image: https://github.com/kaggle/docker-python\n",
    "# For example, here's several helpful packages to load\n",
    "\n",
    "import numpy as np # linear algebra\n",
    "import pandas as pd # data processing, CSV file I/O (e.g. pd.read_csv)\n",
    "from sklearn.preprocessing import StandardScaler\n",
    "from sklearn.cluster import KMeans\n",
    "from tensorflow.keras.models import Sequential\n",
    "from tensorflow.keras.layers import LSTM, Dense\n",
    "\n",
    "# Input data files are available in the read-only \"../input/\" directory\n",
    "# For example, running this (by clicking run or pressing Shift+Enter) will list all files under the input directory\n",
    "\n",
    "import os\n",
    "for dirname, _, filenames in os.walk('/kaggle/input'):\n",
    "    for filename in filenames:\n",
    "        print(os.path.join(dirname, filename))\n",
    "\n",
    "# You can write up to 20GB to the current directory (/kaggle/working/) that gets preserved as output when you create a version using \"Save & Run All\" \n",
    "# You can also write temporary files to /kaggle/temp/, but they won't be saved outside of the current session"
   ]
  },
  {
   "cell_type": "code",
   "execution_count": 2,
   "id": "121a8f5b",
   "metadata": {
    "execution": {
     "iopub.execute_input": "2025-06-27T19:28:57.457337Z",
     "iopub.status.busy": "2025-06-27T19:28:57.456829Z",
     "iopub.status.idle": "2025-06-27T19:30:33.492840Z",
     "shell.execute_reply": "2025-06-27T19:30:33.491788Z"
    },
    "papermill": {
     "duration": 96.041827,
     "end_time": "2025-06-27T19:30:33.494357",
     "exception": false,
     "start_time": "2025-06-27T19:28:57.452530",
     "status": "completed"
    },
    "tags": []
   },
   "outputs": [
    {
     "name": "stdout",
     "output_type": "stream",
     "text": [
      "\u001b[2K   \u001b[90m━━━━━━━━━━━━━━━━━━━━━━━━━━━━━━━━━━━━━━━━\u001b[0m \u001b[32m67.0/67.0 MB\u001b[0m \u001b[31m24.9 MB/s\u001b[0m eta \u001b[36m0:00:00\u001b[0m\r\n",
      "\u001b[2K   \u001b[90m━━━━━━━━━━━━━━━━━━━━━━━━━━━━━━━━━━━━━━━━\u001b[0m \u001b[32m363.4/363.4 MB\u001b[0m \u001b[31m4.4 MB/s\u001b[0m eta \u001b[36m0:00:00\u001b[0m\r\n",
      "\u001b[2K   \u001b[90m━━━━━━━━━━━━━━━━━━━━━━━━━━━━━━━━━━━━━━━━\u001b[0m \u001b[32m664.8/664.8 MB\u001b[0m \u001b[31m2.4 MB/s\u001b[0m eta \u001b[36m0:00:00\u001b[0m\r\n",
      "\u001b[2K   \u001b[90m━━━━━━━━━━━━━━━━━━━━━━━━━━━━━━━━━━━━━━━━\u001b[0m \u001b[32m211.5/211.5 MB\u001b[0m \u001b[31m7.5 MB/s\u001b[0m eta \u001b[36m0:00:00\u001b[0m\r\n",
      "\u001b[2K   \u001b[90m━━━━━━━━━━━━━━━━━━━━━━━━━━━━━━━━━━━━━━━━\u001b[0m \u001b[32m56.3/56.3 MB\u001b[0m \u001b[31m27.6 MB/s\u001b[0m eta \u001b[36m0:00:00\u001b[0m\r\n",
      "\u001b[2K   \u001b[90m━━━━━━━━━━━━━━━━━━━━━━━━━━━━━━━━━━━━━━━━\u001b[0m \u001b[32m127.9/127.9 MB\u001b[0m \u001b[31m12.3 MB/s\u001b[0m eta \u001b[36m0:00:00\u001b[0m\r\n",
      "\u001b[2K   \u001b[90m━━━━━━━━━━━━━━━━━━━━━━━━━━━━━━━━━━━━━━━━\u001b[0m \u001b[32m207.5/207.5 MB\u001b[0m \u001b[31m7.5 MB/s\u001b[0m eta \u001b[36m0:00:00\u001b[0m\r\n",
      "\u001b[2K   \u001b[90m━━━━━━━━━━━━━━━━━━━━━━━━━━━━━━━━━━━━━━━━\u001b[0m \u001b[32m21.1/21.1 MB\u001b[0m \u001b[31m13.7 MB/s\u001b[0m eta \u001b[36m0:00:00\u001b[0m\r\n",
      "\u001b[?25h"
     ]
    }
   ],
   "source": [
    "!pip install -q transformers accelerate bitsandbytes tensorflow"
   ]
  },
  {
   "cell_type": "code",
   "execution_count": 3,
   "id": "336892aa",
   "metadata": {
    "execution": {
     "iopub.execute_input": "2025-06-27T19:30:33.547922Z",
     "iopub.status.busy": "2025-06-27T19:30:33.547670Z",
     "iopub.status.idle": "2025-06-27T19:30:33.551416Z",
     "shell.execute_reply": "2025-06-27T19:30:33.550864Z"
    },
    "papermill": {
     "duration": 0.030737,
     "end_time": "2025-06-27T19:30:33.552591",
     "exception": false,
     "start_time": "2025-06-27T19:30:33.521854",
     "status": "completed"
    },
    "tags": []
   },
   "outputs": [],
   "source": [
    "import json\n",
    "from typing import Dict, Any"
   ]
  },
  {
   "cell_type": "code",
   "execution_count": 4,
   "id": "98735035",
   "metadata": {
    "execution": {
     "iopub.execute_input": "2025-06-27T19:30:33.602852Z",
     "iopub.status.busy": "2025-06-27T19:30:33.602370Z",
     "iopub.status.idle": "2025-06-27T19:30:33.605729Z",
     "shell.execute_reply": "2025-06-27T19:30:33.605188Z"
    },
    "papermill": {
     "duration": 0.029186,
     "end_time": "2025-06-27T19:30:33.606866",
     "exception": false,
     "start_time": "2025-06-27T19:30:33.577680",
     "status": "completed"
    },
    "tags": []
   },
   "outputs": [],
   "source": [
    "# === Constants for Tax Slabs (Simplified for India Old Regime) ===\n",
    "tax_slabs = [\n",
    "    (250000, 0.0),\n",
    "    (500000, 0.05),\n",
    "    (1000000, 0.2),\n",
    "    (float('inf'), 0.3)\n",
    "]"
   ]
  },
  {
   "cell_type": "code",
   "execution_count": 5,
   "id": "2b6e4d09",
   "metadata": {
    "execution": {
     "iopub.execute_input": "2025-06-27T19:30:33.656343Z",
     "iopub.status.busy": "2025-06-27T19:30:33.655825Z",
     "iopub.status.idle": "2025-06-27T19:30:33.660323Z",
     "shell.execute_reply": "2025-06-27T19:30:33.659663Z"
    },
    "papermill": {
     "duration": 0.03049,
     "end_time": "2025-06-27T19:30:33.661609",
     "exception": false,
     "start_time": "2025-06-27T19:30:33.631119",
     "status": "completed"
    },
    "tags": []
   },
   "outputs": [],
   "source": [
    "# === Function to calculate tax ===\n",
    "def calculate_tax(income: float, deductions: float) -> float:\n",
    "    taxable_income = max(0, income - deductions)\n",
    "    tax = 0.0\n",
    "    prev_limit = 0\n",
    "    for limit, rate in tax_slabs:\n",
    "        if taxable_income > limit:\n",
    "            tax += (limit - prev_limit) * rate\n",
    "            prev_limit = limit\n",
    "        else:\n",
    "            tax += (taxable_income - prev_limit) * rate\n",
    "            break\n",
    "    return round(tax, 2)"
   ]
  },
  {
   "cell_type": "markdown",
   "id": "90887296",
   "metadata": {
    "papermill": {
     "duration": 0.023976,
     "end_time": "2025-06-27T19:30:33.710252",
     "exception": false,
     "start_time": "2025-06-27T19:30:33.686276",
     "status": "completed"
    },
    "tags": []
   },
   "source": [
    "**It includes common Indian tax sections:**\n",
    "\n",
    "* 80C (e.g., ELSS, PPF, LIC)\n",
    "* 80CCD(1B) (NPS)\n",
    "* 80D (Health Insurance)\n",
    "* 24(b) (Home Loan Interest)\n",
    "* 80E (Education Loan)\n",
    "* 80G (Donations)\n",
    "\n",
    "These are real, relevant to salaried/working-class individuals in India."
   ]
  },
  {
   "cell_type": "code",
   "execution_count": 6,
   "id": "4abb3d9e",
   "metadata": {
    "execution": {
     "iopub.execute_input": "2025-06-27T19:30:33.758989Z",
     "iopub.status.busy": "2025-06-27T19:30:33.758758Z",
     "iopub.status.idle": "2025-06-27T19:30:33.769015Z",
     "shell.execute_reply": "2025-06-27T19:30:33.768488Z"
    },
    "papermill": {
     "duration": 0.036203,
     "end_time": "2025-06-27T19:30:33.770037",
     "exception": false,
     "start_time": "2025-06-27T19:30:33.733834",
     "status": "completed"
    },
    "tags": []
   },
   "outputs": [],
   "source": [
    "# === AI: Expense Forecasting with LSTM ===\n",
    "import numpy as np\n",
    "from sklearn.preprocessing import StandardScaler\n",
    "from tensorflow.keras.models import Sequential\n",
    "from tensorflow.keras.layers import LSTM, Dense\n",
    "import tensorflow as tf\n",
    "\n",
    "def forecast_expenses(expenses: Dict[str, float], months: int = 12) -> Dict[str, float]:\n",
    "    # Ensure CPU usage to avoid GPU initialization issues\n",
    "    with tf.device('/CPU:0'):\n",
    "        try:\n",
    "            # Simulate historical expense data with variations (12 months)\n",
    "            np.random.seed(42)  # For reproducibility\n",
    "            historical_data = []\n",
    "            for _ in range(12):\n",
    "                month_data = [v * np.random.uniform(0.9, 1.1) for v in expenses.values()]  # ±10% variation\n",
    "                historical_data.append(month_data)\n",
    "            historical_data = np.array(historical_data)\n",
    "            \n",
    "            scaler = StandardScaler()\n",
    "            scaled_data = scaler.fit_transform(historical_data)\n",
    "\n",
    "            # Prepare data for LSTM\n",
    "            X, y = [], []\n",
    "            for i in range(len(scaled_data) - 1):\n",
    "                X.append(scaled_data[i])\n",
    "                y.append(scaled_data[i + 1])\n",
    "            X, y = np.array(X), np.array(y)\n",
    "            X = X.reshape((X.shape[0], 1, X.shape[1]))\n",
    "\n",
    "            # Build a simpler LSTM model to reduce resource demands\n",
    "            model = Sequential([\n",
    "                LSTM(20, activation='relu', input_shape=(1, len(expenses)), return_sequences=False),\n",
    "                Dense(len(expenses))\n",
    "            ])\n",
    "            model.compile(optimizer='adam', loss='mse')\n",
    "\n",
    "            # Train the model with a smaller batch size\n",
    "            model.fit(X, y, epochs=20, batch_size=1, verbose=0)\n",
    "\n",
    "            # Forecast next 12 months\n",
    "            last_input = scaled_data[-1].reshape((1, 1, len(expenses)))\n",
    "            forecast_scaled = model.predict(last_input, verbose=0)\n",
    "            forecast = scaler.inverse_transform(forecast_scaled)[0]\n",
    "\n",
    "            # Convert NumPy float32 to Python float for JSON serialization\n",
    "            forecast = [float(x) for x in forecast]\n",
    "\n",
    "            return dict(zip(expenses.keys(), np.round(forecast, 2)))\n",
    "        except Exception as e:\n",
    "            print(f\"Error in expense forecasting: {str(e)}\")\n",
    "            # Fallback: Return current expenses if forecasting fails\n",
    "            return expenses"
   ]
  },
  {
   "cell_type": "code",
   "execution_count": 7,
   "id": "86f28b02",
   "metadata": {
    "execution": {
     "iopub.execute_input": "2025-06-27T19:30:33.818587Z",
     "iopub.status.busy": "2025-06-27T19:30:33.818354Z",
     "iopub.status.idle": "2025-06-27T19:30:33.824629Z",
     "shell.execute_reply": "2025-06-27T19:30:33.824089Z"
    },
    "papermill": {
     "duration": 0.031898,
     "end_time": "2025-06-27T19:30:33.825732",
     "exception": false,
     "start_time": "2025-06-27T19:30:33.793834",
     "status": "completed"
    },
    "tags": []
   },
   "outputs": [],
   "source": [
    "# === AI: Personalized Investment Recommendations ===\n",
    "def personalized_investment_recommendations(profile: Dict[str, Any]) -> Dict[str, Any]:\n",
    "    # Simulate a dataset of user profiles for clustering (for demo purposes)\n",
    "    sample_profiles = [\n",
    "        {\"income\": 1000000, \"age\": 25, \"risk_tolerance\": 0.7, \"80C\": 50000, \"NPS\": 0, \"home_loan_interest\": 100000},\n",
    "        {\"income\": 1500000, \"age\": 35, \"risk_tolerance\": 0.5, \"80C\": 120000, \"NPS\": 20000, \"home_loan_interest\": 180000},\n",
    "        {\"income\": 800000, \"age\": 40, \"risk_tolerance\": 0.3, \"80C\": 30000, \"NPS\": 5000, \"home_loan_interest\": 50000},\n",
    "        {\"income\": profile['income'], \"age\": profile['age'], \"risk_tolerance\": 0.5 if profile['risk_tolerance'] == 'moderate' else 0.7, \n",
    "         \"80C\": profile['investments']['80C'], \"NPS\": profile['investments']['NPS'], \"home_loan_interest\": profile['investments']['home_loan_interest']}\n",
    "    ]\n",
    "\n",
    "    # Prepare data for clustering\n",
    "    features = [[p['income'], p['age'], p['risk_tolerance'], p['80C'], p['NPS'], p['home_loan_interest']] for p in sample_profiles]\n",
    "    scaler = StandardScaler()\n",
    "    scaled_features = scaler.fit_transform(features)\n",
    "\n",
    "    # Apply K-Means clustering\n",
    "    kmeans = KMeans(n_clusters=2, n_init='auto', random_state=42)\n",
    "    clusters = kmeans.fit_predict(scaled_features)\n",
    "\n",
    "    # Map cluster to investment recommendations\n",
    "    cluster_recommendations = {\n",
    "        0: {\"80C\": \"Invest in ELSS for higher returns (moderate risk).\", \"NPS\": \"Increase NPS contribution for retirement.\", \n",
    "            \"80D\": \"Opt for comprehensive health insurance.\"},\n",
    "        1: {\"80C\": \"Invest in PPF for safe, long-term returns.\", \"NPS\": \"Moderate NPS contribution for tax benefits.\", \n",
    "            \"80D\": \"Basic health insurance for tax savings.\"}\n",
    "    }\n",
    "\n",
    "    user_cluster = clusters[-1]\n",
    "    return cluster_recommendations[user_cluster]"
   ]
  },
  {
   "cell_type": "code",
   "execution_count": 8,
   "id": "d3701264",
   "metadata": {
    "execution": {
     "iopub.execute_input": "2025-06-27T19:30:33.922269Z",
     "iopub.status.busy": "2025-06-27T19:30:33.921968Z",
     "iopub.status.idle": "2025-06-27T19:30:33.928904Z",
     "shell.execute_reply": "2025-06-27T19:30:33.928346Z"
    },
    "papermill": {
     "duration": 0.079934,
     "end_time": "2025-06-27T19:30:33.929899",
     "exception": false,
     "start_time": "2025-06-27T19:30:33.849965",
     "status": "completed"
    },
    "tags": []
   },
   "outputs": [],
   "source": [
    "def suggest_tax_savings(profile: Dict[str, Any]) -> Dict[str, Any]:\n",
    "    recommendations = []\n",
    "    additional_savings = 0\n",
    "\n",
    "    investments = profile.get('investments', {})\n",
    "\n",
    "    # Deduction rules with dynamic checks\n",
    "    deduction_rules = {\n",
    "        \"80C\": {\n",
    "            \"limit\": 150000,\n",
    "            \"current\": investments.get('80C', 0),\n",
    "            \"suggestion\": \"Invest in 80C instruments like ELSS, PPF, or LIC to reach the limit.\"\n",
    "        },\n",
    "        \"80CCD_1B\": {\n",
    "            \"limit\": 50000,\n",
    "            \"current\": investments.get('NPS', 0),\n",
    "            \"suggestion\": \"Invest in NPS to save additionally under section 80CCD(1B).\"\n",
    "        },\n",
    "        \"80D\": {\n",
    "            \"limit\": 25000,  \n",
    "            \"current\": profile.get('health_insurance', 0),\n",
    "            \"suggestion\": \"Buy health insurance to claim deduction under 80D. ₹25,000 recommended for individuals.\"\n",
    "        },\n",
    "        \"80E\": {\n",
    "            \"limit\": 100000, \n",
    "            \"current\": investments.get('education_loan_interest', 0),\n",
    "            \"suggestion\": \"You can claim deduction for education loan interest under 80E.\"\n",
    "        },\n",
    "        \"24B\": {\n",
    "            \"limit\": 200000,\n",
    "            \"current\": investments.get('home_loan_interest', 0),\n",
    "            \"suggestion\": \"Claim home loan interest deduction under section 24(b).\"\n",
    "        },\n",
    "        \"80G\": {\n",
    "            \"limit\": 50000,\n",
    "            \"current\": investments.get('donations_80G', 0),\n",
    "            \"suggestion\": \"Claim deductions for charitable donations under section 80G.\"\n",
    "        },\n",
    "    }\n",
    "\n",
    "    for section, info in deduction_rules.items():\n",
    "        current = info[\"current\"]\n",
    "        limit = info[\"limit\"]\n",
    "        if current < limit:\n",
    "            diff = limit - current\n",
    "            recommendations.append(f\"Section {section}: {info['suggestion']} (₹{diff} more)\")\n",
    "            additional_savings += diff\n",
    "\n",
    "    # Integrate AI-based investment recommendations\n",
    "    ai_recommendations = personalized_investment_recommendations(profile)\n",
    "    for section, suggestion in ai_recommendations.items():\n",
    "        recommendations.append(f\"AI Recommendation for {section}: {suggestion}\")\n",
    "\n",
    "    return {\n",
    "        \"total_additional_deductions\": additional_savings,\n",
    "        \"recommendations\": recommendations\n",
    "    }"
   ]
  },
  {
   "cell_type": "code",
   "execution_count": 9,
   "id": "6628a180",
   "metadata": {
    "execution": {
     "iopub.execute_input": "2025-06-27T19:30:33.979222Z",
     "iopub.status.busy": "2025-06-27T19:30:33.978998Z",
     "iopub.status.idle": "2025-06-27T19:30:33.983885Z",
     "shell.execute_reply": "2025-06-27T19:30:33.983357Z"
    },
    "papermill": {
     "duration": 0.030791,
     "end_time": "2025-06-27T19:30:33.984943",
     "exception": false,
     "start_time": "2025-06-27T19:30:33.954152",
     "status": "completed"
    },
    "tags": []
   },
   "outputs": [],
   "source": [
    "# === Function to optimize budget with weighted scoring ===\n",
    "def optimize_budget(profile: Dict[str, Any]) -> Dict[str, float]:\n",
    "    income_monthly = profile['income'] / 12\n",
    "    weights = {\n",
    "        \"rent\": 0.25 if profile['marital_status'] == 'single' else 0.3,\n",
    "        \"groceries\": 0.15,\n",
    "        \"entertainment\": 0.05 if profile['risk_tolerance'] == 'moderate' else 0.1,\n",
    "        \"insurance\": 0.1,\n",
    "        \"savings\": 0.3 if profile['financial_goals'] == 'retirement' else 0.2,\n",
    "    }\n",
    "    total_weight = sum(weights.values())\n",
    "    misc_weight = 1 - total_weight\n",
    "\n",
    "    budget = {k: income_monthly * w for k, w in weights.items()}\n",
    "    budget['misc'] = income_monthly * misc_weight\n",
    "    return {k: round(v, 2) for k, v in budget.items()}"
   ]
  },
  {
   "cell_type": "code",
   "execution_count": 10,
   "id": "dbc823ed",
   "metadata": {
    "execution": {
     "iopub.execute_input": "2025-06-27T19:30:34.033392Z",
     "iopub.status.busy": "2025-06-27T19:30:34.033175Z",
     "iopub.status.idle": "2025-06-27T19:32:21.948008Z",
     "shell.execute_reply": "2025-06-27T19:32:21.947222Z"
    },
    "papermill": {
     "duration": 107.940344,
     "end_time": "2025-06-27T19:32:21.949369",
     "exception": false,
     "start_time": "2025-06-27T19:30:34.009025",
     "status": "completed"
    },
    "tags": []
   },
   "outputs": [
    {
     "data": {
      "application/vnd.jupyter.widget-view+json": {
       "model_id": "2487d7e769ec4eeb991dea5328b5362d",
       "version_major": 2,
       "version_minor": 0
      },
      "text/plain": [
       "Loading checkpoint shards:   0%|          | 0/4 [00:00<?, ?it/s]"
      ]
     },
     "metadata": {},
     "output_type": "display_data"
    }
   ],
   "source": [
    "from transformers import AutoTokenizer, AutoModelForCausalLM, TextStreamer\n",
    "import torch\n",
    "\n",
    "# Load the model from Kaggle input directory\n",
    "model_path = \"/kaggle/input/llama-3/transformers/8b-hf/1\"\n",
    "\n",
    "tokenizer = AutoTokenizer.from_pretrained(model_path)\n",
    "model = AutoModelForCausalLM.from_pretrained(\n",
    "    model_path,\n",
    "    device_map=\"auto\",\n",
    "    torch_dtype=torch.float16,\n",
    "    low_cpu_mem_usage=True\n",
    ")\n",
    "\n",
    "streamer = TextStreamer(tokenizer, skip_prompt=True)\n"
   ]
  },
  {
   "cell_type": "code",
   "execution_count": 11,
   "id": "222434c1",
   "metadata": {
    "execution": {
     "iopub.execute_input": "2025-06-27T19:32:21.999594Z",
     "iopub.status.busy": "2025-06-27T19:32:21.999075Z",
     "iopub.status.idle": "2025-06-27T19:32:22.005445Z",
     "shell.execute_reply": "2025-06-27T19:32:22.004776Z"
    },
    "papermill": {
     "duration": 0.03204,
     "end_time": "2025-06-27T19:32:22.006792",
     "exception": false,
     "start_time": "2025-06-27T19:32:21.974752",
     "status": "completed"
    },
    "tags": []
   },
   "outputs": [],
   "source": [
    "def generate_llm_insight(user_data: Dict[str, Any], financial_output: Dict[str, Any]) -> str:\n",
    "    prompt = (\n",
    "        \"You are a helpful financial advisor AI. Based on the user's financial data and the tax-saving recommendations provided, \"\n",
    "        \"explain in simple, friendly terms:\\n\"\n",
    "        \"- How the suggested tax-saving strategies reduce tax liability.\\n\"\n",
    "        \"- How the optimized budget plan can help manage expenses better.\\n\"\n",
    "        \"- Practical tips to follow these recommendations effectively.\\n\\n\"\n",
    "        f\"User's financial data:\\n\"\n",
    "        f\"Income: ₹{user_data['income']}\\n\"\n",
    "        f\"Expenses: {json.dumps(user_data['expenses'], indent=2)}\\n\"\n",
    "        f\"Investments: {json.dumps(user_data['investments'], indent=2)}\\n\"\n",
    "        f\"Health Insurance: ₹{user_data['health_insurance']}\\n\\n\"\n",
    "        \"Tax Saving Output:\\n\"\n",
    "        f\"{json.dumps(financial_output['tax_savings'], indent=2)}\\n\\n\"\n",
    "        \"Optimized Budget Plan:\\n\"\n",
    "        f\"{json.dumps(financial_output['optimized_budget_plan'], indent=2)}\\n\\n\"\n",
    "        \n",
    "    )\n",
    "\n",
    "    inputs = tokenizer(prompt, return_tensors=\"pt\")\n",
    "    inputs = {k: v.to(model.device) for k, v in inputs.items()}\n",
    "    input_length = inputs[\"input_ids\"].shape[1]\n",
    "\n",
    "    with torch.inference_mode():\n",
    "        outputs = model.generate(\n",
    "            **inputs,\n",
    "            max_new_tokens=512,\n",
    "            do_sample=True,\n",
    "            temperature=0.7,\n",
    "            top_p=0.9,\n",
    "            repetition_penalty=1.1,\n",
    "            no_repeat_ngram_size=3,\n",
    "            pad_token_id=tokenizer.eos_token_id,\n",
    "            # streamer=streamer,  # Uncomment to use streaming\n",
    "        )\n",
    "\n",
    "    generated_tokens = outputs[0][input_length:]\n",
    "    generated_text = tokenizer.decode(generated_tokens, skip_special_tokens=True)\n",
    "    return generated_text.strip()"
   ]
  },
  {
   "cell_type": "code",
   "execution_count": 12,
   "id": "858449ec",
   "metadata": {
    "execution": {
     "iopub.execute_input": "2025-06-27T19:32:22.055151Z",
     "iopub.status.busy": "2025-06-27T19:32:22.054954Z",
     "iopub.status.idle": "2025-06-27T19:32:22.059808Z",
     "shell.execute_reply": "2025-06-27T19:32:22.059257Z"
    },
    "papermill": {
     "duration": 0.030291,
     "end_time": "2025-06-27T19:32:22.060820",
     "exception": false,
     "start_time": "2025-06-27T19:32:22.030529",
     "status": "completed"
    },
    "tags": []
   },
   "outputs": [],
   "source": [
    "# === Final Output Generator ===\n",
    "def generate_financial_plan(profile: Dict[str, Any]) -> Dict[str, Any]:\n",
    "    current_deductions = sum(profile['investments'].values()) + profile['health_insurance']\n",
    "    original_tax = calculate_tax(profile['income'], current_deductions)\n",
    "\n",
    "    tax_saving_suggestions = suggest_tax_savings(profile)\n",
    "    new_deductions = current_deductions + tax_saving_suggestions['total_additional_deductions']\n",
    "    new_tax = calculate_tax(profile['income'], new_deductions)\n",
    "\n",
    "    forecasted_expenses = forecast_expenses(profile['expenses'])\n",
    "\n",
    "    return {\n",
    "        \"tax_savings\": {\n",
    "            \"original_tax\": original_tax,\n",
    "            \"new_tax\": new_tax,\n",
    "            \"savings\": round(original_tax - new_tax, 2),\n",
    "            \"recommendations\": tax_saving_suggestions['recommendations']\n",
    "        },\n",
    "        \"forecasted_expenses\": forecasted_expenses,\n",
    "        \"optimized_budget_plan\": optimize_budget(profile)\n",
    "    }"
   ]
  },
  {
   "cell_type": "code",
   "execution_count": 13,
   "id": "71339f1b",
   "metadata": {
    "execution": {
     "iopub.execute_input": "2025-06-27T19:32:22.110853Z",
     "iopub.status.busy": "2025-06-27T19:32:22.110644Z",
     "iopub.status.idle": "2025-06-27T19:32:22.115145Z",
     "shell.execute_reply": "2025-06-27T19:32:22.114513Z"
    },
    "papermill": {
     "duration": 0.030051,
     "end_time": "2025-06-27T19:32:22.116126",
     "exception": false,
     "start_time": "2025-06-27T19:32:22.086075",
     "status": "completed"
    },
    "tags": []
   },
   "outputs": [],
   "source": [
    "def pretty_print_summary(result):\n",
    "    print(\"\\n===== Tax Summary =====\")\n",
    "    print(f\"🧾 Original Tax: ₹{result['tax_savings']['original_tax']}\")\n",
    "    print(f\"💸 New Tax After Recommendations: ₹{result['tax_savings']['new_tax']}\")\n",
    "    print(f\"✅ You Save: ₹{result['tax_savings']['savings']}\\n\")\n",
    "\n",
    "    print(\"💡 Tax Saving Recommendations:\")\n",
    "    for rec in result['tax_savings']['recommendations']:\n",
    "        print(f\"  - {rec}\")\n",
    "\n",
    "    print(\"\\n===== Forecasted Expenses =====\")\n",
    "    for k, v in result['forecasted_expenses'].items():\n",
    "        print(f\"{k.capitalize():<15}: ₹{v}\")\n",
    "\n",
    "    print(\"\\n===== Optimized Budget Plan per Month =====\")\n",
    "    for k, v in result['optimized_budget_plan'].items():\n",
    "        print(f\"{k.capitalize():<15}: ₹{v}\")"
   ]
  },
  {
   "cell_type": "code",
   "execution_count": 14,
   "id": "c59ba6a8",
   "metadata": {
    "execution": {
     "iopub.execute_input": "2025-06-27T19:32:22.166074Z",
     "iopub.status.busy": "2025-06-27T19:32:22.165826Z",
     "iopub.status.idle": "2025-06-27T19:32:44.781335Z",
     "shell.execute_reply": "2025-06-27T19:32:44.780401Z"
    },
    "papermill": {
     "duration": 22.642244,
     "end_time": "2025-06-27T19:32:44.782576",
     "exception": false,
     "start_time": "2025-06-27T19:32:22.140332",
     "status": "completed"
    },
    "tags": []
   },
   "outputs": [
    {
     "name": "stdout",
     "output_type": "stream",
     "text": [
      "\n",
      "=== Running Test Case 1: Moderate income, single, no dependents ===\n"
     ]
    },
    {
     "name": "stderr",
     "output_type": "stream",
     "text": [
      "I0000 00:00:1751052742.321425      19 gpu_device.cc:2022] Created device /job:localhost/replica:0/task:0/device:GPU:0 with 7112 MB memory:  -> device: 0, name: Tesla T4, pci bus id: 0000:00:04.0, compute capability: 7.5\n",
      "I0000 00:00:1751052742.322221      19 gpu_device.cc:2022] Created device /job:localhost/replica:0/task:0/device:GPU:1 with 5448 MB memory:  -> device: 1, name: Tesla T4, pci bus id: 0000:00:05.0, compute capability: 7.5\n",
      "/usr/local/lib/python3.11/dist-packages/keras/src/layers/rnn/rnn.py:200: UserWarning: Do not pass an `input_shape`/`input_dim` argument to a layer. When using Sequential models, prefer using an `Input(shape)` object as the first layer in the model instead.\n",
      "  super().__init__(**kwargs)\n",
      "WARNING: All log messages before absl::InitializeLog() is called are written to STDERR\n",
      "I0000 00:00:1751052744.809128      79 service.cc:148] XLA service 0x7a093c00ff20 initialized for platform Host (this does not guarantee that XLA will be used). Devices:\n",
      "I0000 00:00:1751052744.811183      79 service.cc:156]   StreamExecutor device (0): Host, Default Version\n",
      "I0000 00:00:1751052745.982279      79 device_compiler.h:188] Compiled cluster using XLA!  This line is logged at most once for the lifetime of the process.\n"
     ]
    },
    {
     "name": "stdout",
     "output_type": "stream",
     "text": [
      "\n",
      "===== Tax Summary =====\n",
      "🧾 Original Tax: ₹62500.0\n",
      "💸 New Tax After Recommendations: ₹6750.0\n",
      "✅ You Save: ₹55750.0\n",
      "\n",
      "💡 Tax Saving Recommendations:\n",
      "  - Section 80C: Invest in 80C instruments like ELSS, PPF, or LIC to reach the limit. (₹70000 more)\n",
      "  - Section 80CCD_1B: Invest in NPS to save additionally under section 80CCD(1B). (₹50000 more)\n",
      "  - Section 80D: Buy health insurance to claim deduction under 80D. ₹25,000 recommended for individuals. (₹15000 more)\n",
      "  - Section 80E: You can claim deduction for education loan interest under 80E. (₹100000 more)\n",
      "  - Section 24B: Claim home loan interest deduction under section 24(b). (₹80000 more)\n",
      "  - Section 80G: Claim deductions for charitable donations under section 80G. (₹50000 more)\n",
      "  - AI Recommendation for 80C: Invest in PPF for safe, long-term returns.\n",
      "  - AI Recommendation for NPS: Moderate NPS contribution for tax benefits.\n",
      "  - AI Recommendation for 80D: Basic health insurance for tax savings.\n",
      "\n",
      "===== Forecasted Expenses =====\n",
      "Rent           : ₹200596.53\n",
      "Groceries      : ₹147002.16\n",
      "Entertainment  : ₹39556.64\n",
      "Insurance      : ₹30340.49\n",
      "Misc           : ₹48907.68\n",
      "\n",
      "===== Optimized Budget Plan per Month =====\n",
      "Rent           : ₹20833.33\n",
      "Groceries      : ₹12500.0\n",
      "Entertainment  : ₹4166.67\n",
      "Insurance      : ₹8333.33\n",
      "Savings        : ₹25000.0\n",
      "Misc           : ₹12500.0\n",
      "\n",
      "===== LLM Financial Advice =====\n",
      "Tips:\n",
      "- Keep track of your income and expenditure to optimize savings.\n",
      "- Consider investing in low-risk options like PPF and NPS for guaranteed returns.\n",
      "- Ensure proper documentation and timely filing of tax returns to avoid penalties.\n",
      "- Seek professional advice from a certified financial planner if required.\"\n",
      "\n",
      "=== Running Test Case 2: High income, married, with dependents ===\n"
     ]
    },
    {
     "name": "stderr",
     "output_type": "stream",
     "text": [
      "/usr/local/lib/python3.11/dist-packages/keras/src/layers/rnn/rnn.py:200: UserWarning: Do not pass an `input_shape`/`input_dim` argument to a layer. When using Sequential models, prefer using an `Input(shape)` object as the first layer in the model instead.\n",
      "  super().__init__(**kwargs)\n"
     ]
    },
    {
     "name": "stdout",
     "output_type": "stream",
     "text": [
      "\n",
      "===== Tax Summary =====\n",
      "🧾 Original Tax: ₹267000.0\n",
      "💸 New Tax After Recommendations: ₹214500.0\n",
      "✅ You Save: ₹52500.0\n",
      "\n",
      "💡 Tax Saving Recommendations:\n",
      "  - Section 80C: Invest in 80C instruments like ELSS, PPF, or LIC to reach the limit. (₹30000 more)\n",
      "  - Section 80CCD_1B: Invest in NPS to save additionally under section 80CCD(1B). (₹30000 more)\n",
      "  - Section 80D: Buy health insurance to claim deduction under 80D. ₹25,000 recommended for individuals. (₹5000 more)\n",
      "  - Section 80E: You can claim deduction for education loan interest under 80E. (₹50000 more)\n",
      "  - Section 24B: Claim home loan interest deduction under section 24(b). (₹20000 more)\n",
      "  - Section 80G: Claim deductions for charitable donations under section 80G. (₹40000 more)\n",
      "  - AI Recommendation for 80C: Invest in PPF for safe, long-term returns.\n",
      "  - AI Recommendation for NPS: Moderate NPS contribution for tax benefits.\n",
      "  - AI Recommendation for 80D: Basic health insurance for tax savings.\n",
      "\n",
      "===== Forecasted Expenses =====\n",
      "Rent           : ₹369445.94\n",
      "Groceries      : ₹230743.78\n",
      "Entertainment  : ₹60202.6\n",
      "Insurance      : ₹50952.36\n",
      "Misc           : ₹78005.29\n",
      "\n",
      "===== Optimized Budget Plan per Month =====\n",
      "Rent           : ₹50000.0\n",
      "Groceries      : ₹25000.0\n",
      "Entertainment  : ₹16666.67\n",
      "Insurance      : ₹16666.67\n",
      "Savings        : ₹33333.33\n",
      "Misc           : ₹25000.0\n",
      "\n",
      "===== LLM Financial Advice =====\n",
      "Practical Tips:\n",
      "- Maximize your 80c investments to get maximum benefit from this section.\n",
      "- Utilize Section 80ccd_1b to save even more by investing in Nps.\n",
      "- Consider buying health insurance as it not only saves taxes but also provides medical coverage.\n",
      "- Pay off any remaining debts such as student loans to further lower your taxable income.\n",
      "- Look into alternative investment options like mutual funds which offer higher returns compared to fixed deposits.\n",
      "- Always consult with an expert before making major decisions regarding finances.\n"
     ]
    }
   ],
   "source": [
    "# === Test Cases ===\n",
    "def run_test_cases():\n",
    "    test_cases = [\n",
    "        {\n",
    "            \"description\": \"Test Case 1: Moderate income, single, no dependents\",\n",
    "            \"profile\": {\n",
    "                \"income\": 1000000,\n",
    "                \"expenses\": {\n",
    "                    \"rent\": 200000,\n",
    "                    \"groceries\": 150000,\n",
    "                    \"entertainment\": 40000,\n",
    "                    \"insurance\": 30000,\n",
    "                    \"misc\": 50000\n",
    "                },\n",
    "                \"investments\": {\n",
    "                    \"80C\": 80000,\n",
    "                    \"NPS\": 0,\n",
    "                    \"80D_parents\": 0,\n",
    "                    \"home_loan_principal\": 40000,\n",
    "                    \"home_loan_interest\": 120000,\n",
    "                    \"education_loan_interest\": 0,\n",
    "                    \"donations_80G\": 0\n",
    "                },\n",
    "                \"health_insurance\": 10000,\n",
    "                \"age\": 30,\n",
    "                \"marital_status\": \"single\",\n",
    "                \"dependents\": 0,\n",
    "                \"financial_goals\": \"retirement\",\n",
    "                \"risk_tolerance\": \"moderate\"\n",
    "            }\n",
    "        },\n",
    "        {\n",
    "            \"description\": \"Test Case 2: High income, married, with dependents\",\n",
    "            \"profile\": {\n",
    "                \"income\": 2000000,\n",
    "                \"expenses\": {\n",
    "                    \"rent\": 360000,\n",
    "                    \"groceries\": 240000,\n",
    "                    \"entertainment\": 60000,\n",
    "                    \"insurance\": 50000,\n",
    "                    \"misc\": 80000\n",
    "                },\n",
    "                \"investments\": {\n",
    "                    \"80C\": 120000,\n",
    "                    \"NPS\": 20000,\n",
    "                    \"80D_parents\": 25000,\n",
    "                    \"home_loan_principal\": 60000,\n",
    "                    \"home_loan_interest\": 180000,\n",
    "                    \"education_loan_interest\": 50000,\n",
    "                    \"donations_80G\": 10000\n",
    "                },\n",
    "                \"health_insurance\": 20000,\n",
    "                \"age\": 40,\n",
    "                \"marital_status\": \"married\",\n",
    "                \"dependents\": 2,\n",
    "                \"financial_goals\": \"children's education\",\n",
    "                \"risk_tolerance\": \"low\"\n",
    "            }\n",
    "        }\n",
    "    ]\n",
    "\n",
    "    for test in test_cases:\n",
    "        print(f\"\\n=== Running {test['description']} ===\")\n",
    "        try:\n",
    "            financial_result = generate_financial_plan(test['profile'])\n",
    "            pretty_print_summary(financial_result)\n",
    "            llm_insight = generate_llm_insight(test['profile'], financial_result)\n",
    "            print(\"\\n===== LLM Financial Advice =====\")\n",
    "            print(llm_insight)\n",
    "        except Exception as e:\n",
    "            print(f\"Test failed: {str(e)}\")\n",
    "\n",
    "# Run tests\n",
    "if __name__ == '__main__':\n",
    "    run_test_cases()"
   ]
  }
 ],
 "metadata": {
  "kaggle": {
   "accelerator": "nvidiaTeslaT4",
   "dataSources": [
    {
     "modelId": 39106,
     "modelInstanceId": 28079,
     "sourceId": 33547,
     "sourceType": "modelInstanceVersion"
    }
   ],
   "dockerImageVersionId": 31041,
   "isGpuEnabled": true,
   "isInternetEnabled": true,
   "language": "python",
   "sourceType": "notebook"
  },
  "kernelspec": {
   "display_name": "Python 3",
   "language": "python",
   "name": "python3"
  },
  "language_info": {
   "codemirror_mode": {
    "name": "ipython",
    "version": 3
   },
   "file_extension": ".py",
   "mimetype": "text/x-python",
   "name": "python",
   "nbconvert_exporter": "python",
   "pygments_lexer": "ipython3",
   "version": "3.11.11"
  },
  "papermill": {
   "default_parameters": {},
   "duration": 260.997946,
   "end_time": "2025-06-27T19:32:48.546374",
   "environment_variables": {},
   "exception": null,
   "input_path": "__notebook__.ipynb",
   "output_path": "__notebook__.ipynb",
   "parameters": {},
   "start_time": "2025-06-27T19:28:27.548428",
   "version": "2.6.0"
  },
  "widgets": {
   "application/vnd.jupyter.widget-state+json": {
    "state": {
     "2487d7e769ec4eeb991dea5328b5362d": {
      "model_module": "@jupyter-widgets/controls",
      "model_module_version": "2.0.0",
      "model_name": "HBoxModel",
      "state": {
       "_dom_classes": [],
       "_model_module": "@jupyter-widgets/controls",
       "_model_module_version": "2.0.0",
       "_model_name": "HBoxModel",
       "_view_count": null,
       "_view_module": "@jupyter-widgets/controls",
       "_view_module_version": "2.0.0",
       "_view_name": "HBoxView",
       "box_style": "",
       "children": [
        "IPY_MODEL_86261b53ef964133937649c970350e23",
        "IPY_MODEL_fdace16c660040599643d63b2a5db67a",
        "IPY_MODEL_c261e6362a03457ea27f7c77dab1a47b"
       ],
       "layout": "IPY_MODEL_279f3e3b4cc54a51a920ab42a4512678",
       "tabbable": null,
       "tooltip": null
      }
     },
     "279f3e3b4cc54a51a920ab42a4512678": {
      "model_module": "@jupyter-widgets/base",
      "model_module_version": "2.0.0",
      "model_name": "LayoutModel",
      "state": {
       "_model_module": "@jupyter-widgets/base",
       "_model_module_version": "2.0.0",
       "_model_name": "LayoutModel",
       "_view_count": null,
       "_view_module": "@jupyter-widgets/base",
       "_view_module_version": "2.0.0",
       "_view_name": "LayoutView",
       "align_content": null,
       "align_items": null,
       "align_self": null,
       "border_bottom": null,
       "border_left": null,
       "border_right": null,
       "border_top": null,
       "bottom": null,
       "display": null,
       "flex": null,
       "flex_flow": null,
       "grid_area": null,
       "grid_auto_columns": null,
       "grid_auto_flow": null,
       "grid_auto_rows": null,
       "grid_column": null,
       "grid_gap": null,
       "grid_row": null,
       "grid_template_areas": null,
       "grid_template_columns": null,
       "grid_template_rows": null,
       "height": null,
       "justify_content": null,
       "justify_items": null,
       "left": null,
       "margin": null,
       "max_height": null,
       "max_width": null,
       "min_height": null,
       "min_width": null,
       "object_fit": null,
       "object_position": null,
       "order": null,
       "overflow": null,
       "padding": null,
       "right": null,
       "top": null,
       "visibility": null,
       "width": null
      }
     },
     "316fa70e4bcb4da4afcfac6b85ccc312": {
      "model_module": "@jupyter-widgets/controls",
      "model_module_version": "2.0.0",
      "model_name": "HTMLStyleModel",
      "state": {
       "_model_module": "@jupyter-widgets/controls",
       "_model_module_version": "2.0.0",
       "_model_name": "HTMLStyleModel",
       "_view_count": null,
       "_view_module": "@jupyter-widgets/base",
       "_view_module_version": "2.0.0",
       "_view_name": "StyleView",
       "background": null,
       "description_width": "",
       "font_size": null,
       "text_color": null
      }
     },
     "4fbc1382ea3a4278b3761d26aec706df": {
      "model_module": "@jupyter-widgets/controls",
      "model_module_version": "2.0.0",
      "model_name": "HTMLStyleModel",
      "state": {
       "_model_module": "@jupyter-widgets/controls",
       "_model_module_version": "2.0.0",
       "_model_name": "HTMLStyleModel",
       "_view_count": null,
       "_view_module": "@jupyter-widgets/base",
       "_view_module_version": "2.0.0",
       "_view_name": "StyleView",
       "background": null,
       "description_width": "",
       "font_size": null,
       "text_color": null
      }
     },
     "61f7ed5aba3b478ca9d34d2fcdaa6f1a": {
      "model_module": "@jupyter-widgets/base",
      "model_module_version": "2.0.0",
      "model_name": "LayoutModel",
      "state": {
       "_model_module": "@jupyter-widgets/base",
       "_model_module_version": "2.0.0",
       "_model_name": "LayoutModel",
       "_view_count": null,
       "_view_module": "@jupyter-widgets/base",
       "_view_module_version": "2.0.0",
       "_view_name": "LayoutView",
       "align_content": null,
       "align_items": null,
       "align_self": null,
       "border_bottom": null,
       "border_left": null,
       "border_right": null,
       "border_top": null,
       "bottom": null,
       "display": null,
       "flex": null,
       "flex_flow": null,
       "grid_area": null,
       "grid_auto_columns": null,
       "grid_auto_flow": null,
       "grid_auto_rows": null,
       "grid_column": null,
       "grid_gap": null,
       "grid_row": null,
       "grid_template_areas": null,
       "grid_template_columns": null,
       "grid_template_rows": null,
       "height": null,
       "justify_content": null,
       "justify_items": null,
       "left": null,
       "margin": null,
       "max_height": null,
       "max_width": null,
       "min_height": null,
       "min_width": null,
       "object_fit": null,
       "object_position": null,
       "order": null,
       "overflow": null,
       "padding": null,
       "right": null,
       "top": null,
       "visibility": null,
       "width": null
      }
     },
     "86261b53ef964133937649c970350e23": {
      "model_module": "@jupyter-widgets/controls",
      "model_module_version": "2.0.0",
      "model_name": "HTMLModel",
      "state": {
       "_dom_classes": [],
       "_model_module": "@jupyter-widgets/controls",
       "_model_module_version": "2.0.0",
       "_model_name": "HTMLModel",
       "_view_count": null,
       "_view_module": "@jupyter-widgets/controls",
       "_view_module_version": "2.0.0",
       "_view_name": "HTMLView",
       "description": "",
       "description_allow_html": false,
       "layout": "IPY_MODEL_d789a3cdde05474dad4c5ea1cab7ea73",
       "placeholder": "​",
       "style": "IPY_MODEL_4fbc1382ea3a4278b3761d26aec706df",
       "tabbable": null,
       "tooltip": null,
       "value": "Loading checkpoint shards: 100%"
      }
     },
     "9b336b185afd48d688355760ccf1f9c6": {
      "model_module": "@jupyter-widgets/controls",
      "model_module_version": "2.0.0",
      "model_name": "ProgressStyleModel",
      "state": {
       "_model_module": "@jupyter-widgets/controls",
       "_model_module_version": "2.0.0",
       "_model_name": "ProgressStyleModel",
       "_view_count": null,
       "_view_module": "@jupyter-widgets/base",
       "_view_module_version": "2.0.0",
       "_view_name": "StyleView",
       "bar_color": null,
       "description_width": ""
      }
     },
     "c261e6362a03457ea27f7c77dab1a47b": {
      "model_module": "@jupyter-widgets/controls",
      "model_module_version": "2.0.0",
      "model_name": "HTMLModel",
      "state": {
       "_dom_classes": [],
       "_model_module": "@jupyter-widgets/controls",
       "_model_module_version": "2.0.0",
       "_model_name": "HTMLModel",
       "_view_count": null,
       "_view_module": "@jupyter-widgets/controls",
       "_view_module_version": "2.0.0",
       "_view_name": "HTMLView",
       "description": "",
       "description_allow_html": false,
       "layout": "IPY_MODEL_d5cccf9b007e415c86eba828cb7e98fa",
       "placeholder": "​",
       "style": "IPY_MODEL_316fa70e4bcb4da4afcfac6b85ccc312",
       "tabbable": null,
       "tooltip": null,
       "value": " 4/4 [01:29&lt;00:00, 19.21s/it]"
      }
     },
     "d5cccf9b007e415c86eba828cb7e98fa": {
      "model_module": "@jupyter-widgets/base",
      "model_module_version": "2.0.0",
      "model_name": "LayoutModel",
      "state": {
       "_model_module": "@jupyter-widgets/base",
       "_model_module_version": "2.0.0",
       "_model_name": "LayoutModel",
       "_view_count": null,
       "_view_module": "@jupyter-widgets/base",
       "_view_module_version": "2.0.0",
       "_view_name": "LayoutView",
       "align_content": null,
       "align_items": null,
       "align_self": null,
       "border_bottom": null,
       "border_left": null,
       "border_right": null,
       "border_top": null,
       "bottom": null,
       "display": null,
       "flex": null,
       "flex_flow": null,
       "grid_area": null,
       "grid_auto_columns": null,
       "grid_auto_flow": null,
       "grid_auto_rows": null,
       "grid_column": null,
       "grid_gap": null,
       "grid_row": null,
       "grid_template_areas": null,
       "grid_template_columns": null,
       "grid_template_rows": null,
       "height": null,
       "justify_content": null,
       "justify_items": null,
       "left": null,
       "margin": null,
       "max_height": null,
       "max_width": null,
       "min_height": null,
       "min_width": null,
       "object_fit": null,
       "object_position": null,
       "order": null,
       "overflow": null,
       "padding": null,
       "right": null,
       "top": null,
       "visibility": null,
       "width": null
      }
     },
     "d789a3cdde05474dad4c5ea1cab7ea73": {
      "model_module": "@jupyter-widgets/base",
      "model_module_version": "2.0.0",
      "model_name": "LayoutModel",
      "state": {
       "_model_module": "@jupyter-widgets/base",
       "_model_module_version": "2.0.0",
       "_model_name": "LayoutModel",
       "_view_count": null,
       "_view_module": "@jupyter-widgets/base",
       "_view_module_version": "2.0.0",
       "_view_name": "LayoutView",
       "align_content": null,
       "align_items": null,
       "align_self": null,
       "border_bottom": null,
       "border_left": null,
       "border_right": null,
       "border_top": null,
       "bottom": null,
       "display": null,
       "flex": null,
       "flex_flow": null,
       "grid_area": null,
       "grid_auto_columns": null,
       "grid_auto_flow": null,
       "grid_auto_rows": null,
       "grid_column": null,
       "grid_gap": null,
       "grid_row": null,
       "grid_template_areas": null,
       "grid_template_columns": null,
       "grid_template_rows": null,
       "height": null,
       "justify_content": null,
       "justify_items": null,
       "left": null,
       "margin": null,
       "max_height": null,
       "max_width": null,
       "min_height": null,
       "min_width": null,
       "object_fit": null,
       "object_position": null,
       "order": null,
       "overflow": null,
       "padding": null,
       "right": null,
       "top": null,
       "visibility": null,
       "width": null
      }
     },
     "fdace16c660040599643d63b2a5db67a": {
      "model_module": "@jupyter-widgets/controls",
      "model_module_version": "2.0.0",
      "model_name": "FloatProgressModel",
      "state": {
       "_dom_classes": [],
       "_model_module": "@jupyter-widgets/controls",
       "_model_module_version": "2.0.0",
       "_model_name": "FloatProgressModel",
       "_view_count": null,
       "_view_module": "@jupyter-widgets/controls",
       "_view_module_version": "2.0.0",
       "_view_name": "ProgressView",
       "bar_style": "success",
       "description": "",
       "description_allow_html": false,
       "layout": "IPY_MODEL_61f7ed5aba3b478ca9d34d2fcdaa6f1a",
       "max": 4,
       "min": 0,
       "orientation": "horizontal",
       "style": "IPY_MODEL_9b336b185afd48d688355760ccf1f9c6",
       "tabbable": null,
       "tooltip": null,
       "value": 4
      }
     }
    },
    "version_major": 2,
    "version_minor": 0
   }
  }
 },
 "nbformat": 4,
 "nbformat_minor": 5
}
